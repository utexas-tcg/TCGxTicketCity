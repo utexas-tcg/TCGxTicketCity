{
  "cells": [
    {
      "cell_type": "code",
      "execution_count": null,
      "metadata": {
        "colab": {
          "base_uri": "https://localhost:8080/"
        },
        "id": "mviSC0O10yhL",
        "outputId": "f507696c-d8b7-4a96-e0e2-58d2606c2a3a"
      },
      "outputs": [
        {
          "name": "stdout",
          "output_type": "stream",
          "text": [
            "Requirement already satisfied: google-cloud-bigquery in /usr/local/lib/python3.11/dist-packages (3.31.0)\n",
            "Requirement already satisfied: google-api-core<3.0.0,>=2.11.1 in /usr/local/lib/python3.11/dist-packages (from google-api-core[grpc]<3.0.0,>=2.11.1->google-cloud-bigquery) (2.24.2)\n",
            "Requirement already satisfied: google-auth<3.0.0,>=2.14.1 in /usr/local/lib/python3.11/dist-packages (from google-cloud-bigquery) (2.38.0)\n",
            "Requirement already satisfied: google-cloud-core<3.0.0,>=2.4.1 in /usr/local/lib/python3.11/dist-packages (from google-cloud-bigquery) (2.4.3)\n",
            "Requirement already satisfied: google-resumable-media<3.0.0,>=2.0.0 in /usr/local/lib/python3.11/dist-packages (from google-cloud-bigquery) (2.7.2)\n",
            "Requirement already satisfied: packaging>=24.2.0 in /usr/local/lib/python3.11/dist-packages (from google-cloud-bigquery) (24.2)\n",
            "Requirement already satisfied: python-dateutil<3.0.0,>=2.8.2 in /usr/local/lib/python3.11/dist-packages (from google-cloud-bigquery) (2.8.2)\n",
            "Requirement already satisfied: requests<3.0.0,>=2.21.0 in /usr/local/lib/python3.11/dist-packages (from google-cloud-bigquery) (2.32.3)\n",
            "Requirement already satisfied: googleapis-common-protos<2.0.0,>=1.56.2 in /usr/local/lib/python3.11/dist-packages (from google-api-core<3.0.0,>=2.11.1->google-api-core[grpc]<3.0.0,>=2.11.1->google-cloud-bigquery) (1.69.2)\n",
            "Requirement already satisfied: protobuf!=3.20.0,!=3.20.1,!=4.21.0,!=4.21.1,!=4.21.2,!=4.21.3,!=4.21.4,!=4.21.5,<7.0.0,>=3.19.5 in /usr/local/lib/python3.11/dist-packages (from google-api-core<3.0.0,>=2.11.1->google-api-core[grpc]<3.0.0,>=2.11.1->google-cloud-bigquery) (5.29.4)\n",
            "Requirement already satisfied: proto-plus<2.0.0,>=1.22.3 in /usr/local/lib/python3.11/dist-packages (from google-api-core<3.0.0,>=2.11.1->google-api-core[grpc]<3.0.0,>=2.11.1->google-cloud-bigquery) (1.26.1)\n",
            "Requirement already satisfied: grpcio<2.0dev,>=1.33.2 in /usr/local/lib/python3.11/dist-packages (from google-api-core[grpc]<3.0.0,>=2.11.1->google-cloud-bigquery) (1.71.0)\n",
            "Requirement already satisfied: grpcio-status<2.0.dev0,>=1.33.2 in /usr/local/lib/python3.11/dist-packages (from google-api-core[grpc]<3.0.0,>=2.11.1->google-cloud-bigquery) (1.71.0)\n",
            "Requirement already satisfied: cachetools<6.0,>=2.0.0 in /usr/local/lib/python3.11/dist-packages (from google-auth<3.0.0,>=2.14.1->google-cloud-bigquery) (5.5.2)\n",
            "Requirement already satisfied: pyasn1-modules>=0.2.1 in /usr/local/lib/python3.11/dist-packages (from google-auth<3.0.0,>=2.14.1->google-cloud-bigquery) (0.4.2)\n",
            "Requirement already satisfied: rsa<5,>=3.1.4 in /usr/local/lib/python3.11/dist-packages (from google-auth<3.0.0,>=2.14.1->google-cloud-bigquery) (4.9)\n",
            "Requirement already satisfied: google-crc32c<2.0dev,>=1.0 in /usr/local/lib/python3.11/dist-packages (from google-resumable-media<3.0.0,>=2.0.0->google-cloud-bigquery) (1.7.1)\n",
            "Requirement already satisfied: six>=1.5 in /usr/local/lib/python3.11/dist-packages (from python-dateutil<3.0.0,>=2.8.2->google-cloud-bigquery) (1.17.0)\n",
            "Requirement already satisfied: charset-normalizer<4,>=2 in /usr/local/lib/python3.11/dist-packages (from requests<3.0.0,>=2.21.0->google-cloud-bigquery) (3.4.1)\n",
            "Requirement already satisfied: idna<4,>=2.5 in /usr/local/lib/python3.11/dist-packages (from requests<3.0.0,>=2.21.0->google-cloud-bigquery) (3.10)\n",
            "Requirement already satisfied: urllib3<3,>=1.21.1 in /usr/local/lib/python3.11/dist-packages (from requests<3.0.0,>=2.21.0->google-cloud-bigquery) (2.3.0)\n",
            "Requirement already satisfied: certifi>=2017.4.17 in /usr/local/lib/python3.11/dist-packages (from requests<3.0.0,>=2.21.0->google-cloud-bigquery) (2025.1.31)\n",
            "Requirement already satisfied: pyasn1<0.7.0,>=0.6.1 in /usr/local/lib/python3.11/dist-packages (from pyasn1-modules>=0.2.1->google-auth<3.0.0,>=2.14.1->google-cloud-bigquery) (0.6.1)\n"
          ]
        }
      ],
      "source": [
        "#!pip install google-cloud-bigquery #Only run once"
      ]
    },
    {
      "cell_type": "markdown",
      "metadata": {
        "id": "3aq46J1s2Fsa"
      },
      "source": [
        "Importing all packages for models and querieng"
      ]
    },
    {
      "cell_type": "code",
      "execution_count": null,
      "metadata": {
        "id": "g6LpcrV50qYV"
      },
      "outputs": [],
      "source": [
        "from google.colab import auth\n",
        "from google.cloud import bigquery\n",
        "import pandas as pd\n",
        "import os\n",
        "import numpy as np\n",
        "from sklearn.preprocessing import LabelEncoder\n",
        "import xgboost as xgb\n",
        "from sklearn.model_selection import train_test_split"
      ]
    },
    {
      "cell_type": "markdown",
      "metadata": {
        "id": "b7LVqHQ-2n3S"
      },
      "source": [
        "Authenticating and Connecting to the Google Querey database"
      ]
    },
    {
      "cell_type": "code",
      "execution_count": null,
      "metadata": {
        "colab": {
          "base_uri": "https://localhost:8080/"
        },
        "id": "Y0GfkkSf0s9M",
        "outputId": "4da9d00c-b907-4074-f697-69fd3abddb65"
      },
      "outputs": [
        {
          "name": "stdout",
          "output_type": "stream",
          "text": [
            "Authenticated\n"
          ]
        }
      ],
      "source": [
        "#Authenticate and Connect to the Data\n",
        "\n",
        "os.environ['USE_AUTH_EPHEM'] = '0'  #Bypass the special permissions error from before\n",
        "\n",
        "# Authenticate to Google Cloud\n",
        "auth.authenticate_user()\n",
        "project_id = 'ticketcity-tcg' # Replace with your project ID\n",
        "client = bigquery.Client(project=project_id) # This line is added to create the client object\n",
        "\n",
        "project_id = 'ticketcity-tcg'\n",
        "\n",
        "# Construct a BigQuery client object.\n",
        "client = bigquery.Client(project=project_id)\n",
        "\n",
        "# Replace with your project ID and dataset/table names.\n",
        "# dataset_id = ''\n",
        "table_id = 'data-ticketcity.TC_Data.InventoryStream'"
      ]
    },
    {
      "cell_type": "markdown",
      "metadata": {
        "id": "g4D777CA23D6"
      },
      "source": [
        "This SQL query extracts recent event-level ticketing data from the TicketCity dataset, focusing on events reported in the last seven days. It includes detailed information on event timing, location, sales performance, revenue, and ticket pricing, as well as metadata about the main performer. The query also calculates how many days in advance tickets were purchased, enabling analysis of consumer behavior and event demand trends."
      ]
    },
    {
      "cell_type": "code",
      "execution_count": null,
      "metadata": {
        "id": "xyNtEojrlDO9"
      },
      "outputs": [],
      "source": [
        "# Create a SQL query string for our data.\n",
        "query = f\"\"\"\n",
        "SELECT\n",
        "    e.PID AS EventID,\n",
        "    e.Name AS EventName,\n",
        "    -- Convert \"MM/DD/YY hh:mm AM/PM\" format to proper TIMESTAMP\n",
        "    TIMESTAMP(PARSE_TIMESTAMP(\"%m/%d/%y %I:%M %p\", e.Date)) AS EventDateTime,\n",
        "    e.Venue,\n",
        "    e.City,\n",
        "    e.State,\n",
        "    e.Event_Type,\n",
        "    e.Category,\n",
        "    e.Orders,\n",
        "    e.Quantity as TotalEventTickets,\n",
        "    e.Avg_Order_Size as Order_Price,\n",
        "    e.Revenue,\n",
        "    ROUND(SAFE_DIVIDE(e.Revenue, e.Quantity), 2) AS Ticket_Price,  -- New column: Ticket Price\n",
        "    e.Report_Date as Date_Of_Purchase,\n",
        "    DATE_DIFF(\n",
        "       DATE(TIMESTAMP(PARSE_TIMESTAMP(\"%m/%d/%y %I:%M %p\", e.Date))),\n",
        "       e.Report_Date,\n",
        "       DAY\n",
        "    ) AS DaysBetweenPurchaseAndEvent,\n",
        "    pe.Performer_Name,\n",
        "    ep.Master\n",
        "FROM `data-ticketcity.TFS_Reports.75_Event_Daily` e\n",
        "LEFT JOIN `data-ticketcity.VividIntake.EventPerformers` ep\n",
        "    ON e.PID = ep.Event_ID\n",
        "    AND TIMESTAMP_TRUNC(ep._PARTITIONTIME, DAY) = TIMESTAMP(\"2025-03-01\")\n",
        "LEFT JOIN `data-ticketcity.VividIntake.Performers` pe\n",
        "    ON ep.Performer_ID = pe.Performer_ID\n",
        "    AND TIMESTAMP_TRUNC(pe._PARTITIONTIME, DAY) = TIMESTAMP(\"2025-03-01\")\n",
        "WHERE\n",
        "    e.Report_Date >= DATE_SUB(CURRENT_DATE(), INTERVAL 7 DAY)\n",
        "    AND e.PID IS NOT NULL\n",
        "    AND e.Name IS NOT NULL\n",
        "    AND e.Date IS NOT NULL\n",
        "    AND e.Revenue IS NOT NULL\n",
        "    AND e.Avg_Order_Size IS NOT NULL\n",
        "    AND e.Orders IS NOT NULL\n",
        "    AND e.Quantity IS NOT NULL\n",
        "    AND e.Category != 'Parking'\n",
        "    AND (ep.Master IS NULL OR ep.Master = TRUE)\n",
        "ORDER BY e.Report_Date ASC;\n",
        "\"\"\""
      ]
    },
    {
      "cell_type": "markdown",
      "metadata": {
        "id": "q8J8Pq_73QBR"
      },
      "source": [
        "This takes a previously a previously run BigQuery SQL query, converts them into a pandas DataFrame, and performs several data cleaning steps. It removes outliers from all numerical columns using the Interquartile Range (IQR) method, filters out records where the ticket purchase date falls on a Tuesday, and fills missing performer names with the event name. The cleaned data is saved to two CSV files: one after removing Tuesdays (filtered_transformed_data.csv) and one final version (cleaned_query_results.csv) with missing performer names handled."
      ]
    },
    {
      "cell_type": "code",
      "execution_count": null,
      "metadata": {
        "colab": {
          "base_uri": "https://localhost:8080/"
        },
        "id": "bIjo69BB0F0O",
        "outputId": "94d6f058-0ab1-4504-a868-60485fedc1cc"
      },
      "outputs": [
        {
          "name": "stdout",
          "output_type": "stream",
          "text": [
            "Cleaned query results saved to cleaned_query_results.csv\n"
          ]
        }
      ],
      "source": [
        "# Run the query\n",
        "query_job = client.query(query)\n",
        "results = query_job.result()  # Fetch results again\n",
        "\n",
        "# data = []\n",
        "# for row in results:\n",
        "  # data.append(dict(row))\n",
        "\n",
        "# Convert query results into a list of dictionaries\n",
        "data = [dict(row) for row in results]\n",
        "\n",
        "# Convert the list into a DataFrame\n",
        "df = pd.DataFrame(data)\n",
        "\n",
        "numerical_cols = df.select_dtypes(include=[np.number]).columns\n",
        "\n",
        "# Remove outliers using the Interquartile Range (IQR) method\n",
        "def remove_outliers(df, column):\n",
        "    Q1 = df[column].quantile(0.25)\n",
        "    Q3 = df[column].quantile(0.75)\n",
        "    IQR = Q3 - Q1\n",
        "    return df[(df[column] >= (Q1 - 1.5 * IQR)) & (df[column] <= (Q3 + 1.5 * IQR))]\n",
        "\n",
        "# Apply outlier removal to all numerical columns\n",
        "for col in numerical_cols:\n",
        "    df = remove_outliers(df, col)\n",
        "\n",
        "#Remove the Tuesday's from the data (from what Jim said)\n",
        "df['Date_Of_Purchase'] = pd.to_datetime(df['Date_Of_Purchase'])\n",
        "df_filtered = df[df['Date_Of_Purchase'].dt.day_name() != 'Tuesday']\n",
        "df_filtered.to_csv(\"filtered_transformed_data.csv\", index=False)\n",
        "\n",
        "#Removing null\n",
        "df['Performer_Name'] = df['Performer_Name'].fillna(df['EventName'])\n",
        "\n",
        "# Save cleaned data to CSV\n",
        "df.to_csv('cleaned_query_results.csv', index=False)\n",
        "\n",
        "print(\"Cleaned query results saved to cleaned_query_results.csv\")\n"
      ]
    },
    {
      "cell_type": "markdown",
      "metadata": {
        "id": "VRhK-MIE3rwq"
      },
      "source": [
        "This code block loads the previously cleaned event data from cleaned_query_results.csv and applies label encoding to selected categorical columns such as EventName, Venue, City, Event_Type, and Performer_Name. For each column, it creates a new encoded version and stores the mappings of original categories to numeric values in a dictionary. The transformed dataset is saved to transformed_data.csv, and a reference file with all encoding mappings is saved separately as encoding_mappings.csv."
      ]
    },
    {
      "cell_type": "code",
      "execution_count": null,
      "metadata": {
        "colab": {
          "base_uri": "https://localhost:8080/"
        },
        "id": "qknrf7K94nSJ",
        "outputId": "ba11060e-f61f-4f4f-96c1-36c0ee250e40"
      },
      "outputs": [
        {
          "name": "stdout",
          "output_type": "stream",
          "text": [
            "Transformed data results saved to transformed_data.csv\n",
            "Encoding mappings saved to encoding_mappings.csv\n"
          ]
        }
      ],
      "source": [
        "# load the query results\n",
        "df = pd.read_csv(\"cleaned_query_results.csv\")\n",
        "\n",
        "#print all columns in df\n",
        "#print(df.columns)\n",
        "#Index(['EventID', 'EventName', 'EventDateTime', 'Venue', 'City', 'State',\n",
        "       #'Event_Type', 'Category', 'Orders', 'TotalEventTickets', 'Order_Price',\n",
        "       #'Revenue', 'Ticket_Price', 'Date_Of_Purchase',\n",
        "      # 'DaysBetweenPurchaseAndEvent', 'Performer_Name', 'Master'],\n",
        "     # dtype='object')\n",
        "columns_to_encode = ['EventName', 'Venue','City', 'State', 'Event_Type', 'Category', 'Performer_Name'] #only decided to encode these ones\n",
        "\n",
        "label_encoders = {}\n",
        "for col in columns_to_encode:\n",
        "    label_encoder_instance = LabelEncoder()\n",
        "    df[f\"{col}_encoded\"] = label_encoder_instance.fit_transform(df[col])  # create new encoded column\n",
        "    label_encoders[col] = dict(zip(label_encoder_instance.classes_, label_encoder_instance.transform(label_encoder_instance.classes_)))  # store mappings using the classes_ & numerical values\n",
        "df.to_csv(\"transformed_data.csv\", index=False)\n",
        "print(\"Transformed data results saved to transformed_data.csv\")\n",
        "\n",
        "# save encoding mappings as reference if needed\n",
        "encoding_df = pd.DataFrame([\n",
        "    {'Column': col, 'Category': cat, 'Encoded Value': val}\n",
        "    for col, mapping in label_encoders.items()\n",
        "    for cat, val in mapping.items()\n",
        "])\n",
        "encoding_df.to_csv(\"encoding_mappings.csv\", index=False)\n",
        "print(\"Encoding mappings saved to encoding_mappings.csv\")"
      ]
    },
    {
      "cell_type": "markdown",
      "metadata": {
        "id": "aBVgpvNb33B0"
      },
      "source": [
        "This code block loads the transformed event dataset (transformed_data.csv), defines the feature matrix X by dropping non-informative or redundant columns, and sets y as the target variable representing ticket price. It then performs a train-test split (80% training, 20% testing) to prepare the data for modeling and saves each split (X_train, X_test, y_train, y_test) to separate CSV files for easy access in future modeling steps."
      ]
    },
    {
      "cell_type": "code",
      "execution_count": null,
      "metadata": {
        "colab": {
          "base_uri": "https://localhost:8080/"
        },
        "id": "TERY-E-FpIex",
        "outputId": "9165c567-e8d7-4114-cf02-3ac336ee5c30"
      },
      "outputs": [
        {
          "name": "stdout",
          "output_type": "stream",
          "text": [
            "Data successfully split and saved.\n"
          ]
        }
      ],
      "source": [
        "# Load dataset\n",
        "df = pd.read_csv(\"transformed_data.csv\")\n",
        "# Define features (X) and target variable (y)\n",
        "X = df.drop(columns=['EventName', 'Venue','City', 'State', 'Event_Type', 'Category', 'Performer_Name','EventDateTime',\n",
        "                     'Master', 'Date_Of_Purchase', 'EventID', 'Revenue', 'Ticket_Price', 'Order_Price'])  # Features variable\n",
        "y = df[\"Ticket_Price\"]  # Target variable\n",
        "\n",
        "# Train-test split (80% train, 20% test)\n",
        "X_train, X_test, y_train, y_test = train_test_split(X, y, test_size=0.2, random_state=0)\n",
        "\n",
        "# Save split data if needed\n",
        "X_train.to_csv(\"X_train.csv\", index=False)\n",
        "X_test.to_csv(\"X_test.csv\", index=False)\n",
        "y_train.to_csv(\"y_train.csv\", index=False)\n",
        "y_test.to_csv(\"y_test.csv\", index=False)\n",
        "\n",
        "print(\"Data successfully split and saved.\")\n"
      ]
    },
    {
      "cell_type": "markdown",
      "metadata": {
        "id": "UD6ZRvbg3-Vh"
      },
      "source": [
        "Initializing the XGBRegressor model, training it, and making a prediction. XGBRegressor is a gradient boosting algorithm from the XGBoost library, designed for efficient and accurate prediction of continuous numerical values. It combines ensemble learning with advanced regularization techniques to reduce overfitting and improve model performance."
      ]
    },
    {
      "cell_type": "code",
      "execution_count": null,
      "metadata": {
        "id": "rkz46XY2y5hi"
      },
      "outputs": [],
      "source": [
        "import xgboost as xgb\n",
        "from sklearn.metrics import mean_absolute_error, mean_squared_error\n",
        "\n",
        "# Initialize model\n",
        "xgb_model = xgb.XGBRegressor(objective=\"reg:squarederror\", random_state=42, enable_categorical=True)\n",
        "\n",
        "# Train\n",
        "xgb_model.fit(X_train, y_train)\n",
        "\n",
        "# Make predictions\n",
        "y_pred = xgb_model.predict(X_test)"
      ]
    },
    {
      "cell_type": "markdown",
      "metadata": {
        "id": "ME_etqSu4Vi2"
      },
      "source": [
        "This code block determines the feature importance and creates a graph to visualize."
      ]
    },
    {
      "cell_type": "code",
      "execution_count": null,
      "metadata": {
        "colab": {
          "base_uri": "https://localhost:8080/",
          "height": 564
        },
        "id": "hte03DPCy72W",
        "outputId": "b0b430fb-0966-48f7-dd7b-7c2ca9dd30a9"
      },
      "outputs": [
        {
          "data": {
            "image/png": "[encoded data removed]",
            "text/plain": [
              "<Figure size 1000x600 with 1 Axes>"
            ]
          },
          "metadata": {},
          "output_type": "display_data"
        }
      ],
      "source": [
        "import matplotlib.pyplot as plt\n",
        "\n",
        "# Get feature importance\n",
        "feature_importance = xgb_model.feature_importances_\n",
        "sorted_idx = feature_importance.argsort()\n",
        "\n",
        "# Plot\n",
        "plt.figure(figsize=(10, 6))\n",
        "plt.barh(X_train.columns[sorted_idx], feature_importance[sorted_idx])\n",
        "plt.xlabel(\"Feature Importance\")\n",
        "plt.ylabel(\"Feature\")\n",
        "plt.title(\"XGBoost Feature Importance\")\n",
        "plt.show()"
      ]
    },
    {
      "cell_type": "markdown",
      "metadata": {
        "id": "mKBIgxZP5Jlt"
      },
      "source": [
        "Example testing for a G-Eazy event where we provided variables in order to predict pricing of certain event. It takes a sample event dictionary, encodes all categorical fields using previously saved label mappings (encoding_mappings.csv), constructs a properly formatted DataFrame with the expected model features, and then predicts the ticket price, printing the result."
      ]
    },
    {
      "cell_type": "code",
      "execution_count": null,
      "metadata": {
        "colab": {
          "base_uri": "https://localhost:8080/"
        },
        "id": "70t57Hj7Usm0",
        "outputId": "c4959069-97e9-4820-8a23-b83f9d639d03"
      },
      "outputs": [
        {
          "name": "stdout",
          "output_type": "stream",
          "text": [
            "Predicted Ticket Price: $96.90\n"
          ]
        }
      ],
      "source": [
        "#Example event prediction\n",
        "example_event = {\n",
        "    \"Orders\": 1,\n",
        "    \"TotalEventTickets\": 2,\n",
        "    \"DaysBetweenPurchaseAndEvent\": 42,\n",
        "    \"EventName\": \"G-Eazy\",\n",
        "    \"Venue\": \"Revel Entertainment Center\",\n",
        "    \"City\": \"Albuquerque\",\n",
        "    \"State\": \"NM\",\n",
        "    \"Event_Type\": \"Concert\",\n",
        "    \"Category\": \"Rap/Hip Hop\",\n",
        "    \"Performer_Name\": \"G-Eazy\"\n",
        "}\n",
        "\n",
        "encoding_df = pd.read_csv(\"encoding_mappings.csv\")\n",
        "\n",
        "#All encoders\n",
        "label_encoders = {}\n",
        "for col in encoding_df[\"Column\"].unique():\n",
        "    sub_df = encoding_df[encoding_df[\"Column\"] == col]\n",
        "    label_encoders[col] = dict(zip(sub_df[\"Category\"], sub_df[\"Encoded Value\"]))\n",
        "\n",
        "#Encode categorical columns\n",
        "for col in ['EventName', 'Venue', 'City', 'State', 'Event_Type', 'Category', 'Performer_Name']:\n",
        "    if example_event[col] in label_encoders[col]:\n",
        "        example_event[f\"{col}_encoded\"] = label_encoders[col][example_event[col]]\n",
        "    else:\n",
        "        example_event[f\"{col}_encoded\"] = -1\n",
        "\n",
        "model_features = ['Orders', 'TotalEventTickets', 'DaysBetweenPurchaseAndEvent',\n",
        "                  'EventName_encoded', 'Venue_encoded', 'City_encoded', 'State_encoded',\n",
        "                  'Event_Type_encoded', 'Category_encoded', 'Performer_Name_encoded']\n",
        "\n",
        "example_input_df = pd.DataFrame([example_event])[model_features]\n",
        "\n",
        "#Predict ticket price\n",
        "predicted_price = xgb_model.predict(example_input_df)[0]\n",
        "print(f\"Predicted Ticket Price: ${predicted_price:.2f}\")\n",
        "\n"
      ]
    }
  ],
  "metadata": {
    "colab": {
      "provenance": []
    },
    "kernelspec": {
      "display_name": "Python 3",
      "name": "python3"
    },
    "language_info": {
      "name": "python"
    }
  },
  "nbformat": 4,
  "nbformat_minor": 0
}
